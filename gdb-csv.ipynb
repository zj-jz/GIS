{
 "cells": [
  {
   "cell_type": "code",
   "execution_count": 19,
   "metadata": {},
   "outputs": [
    {
     "name": "stdout",
     "output_type": "stream",
     "text": [
      "0 Block 365344\n",
      "1 Census_Tract 2952\n",
      "2 County_Subdivision 1606\n",
      "3 Block_Group 9238\n",
      "4 Census_Designated_Place 285\n",
      "5 County 88\n",
      "6 Incorporated_Place 930\n"
     ]
    }
   ],
   "source": [
    "import geopandas as gpd\n",
    "from shapely.geometry.polygon import Polygon\n",
    "from shapely.geometry.multipolygon import MultiPolygon\n",
    "import pandas as pd\n",
    "import fiona\n",
    "for i, layername in enumerate(fiona.listlayers(r\"C:\\Users\\zhuj\\Documents\\PythonScripts\\tlgdb_2019_a_39_oh.gdb\")):\n",
    "    with fiona.open(r\"C:\\Users\\zhuj\\Documents\\PythonScripts\\tlgdb_2019_a_39_oh.gdb\", layer=i) as src:\n",
    "        print(i, layername, len(src))\n",
    "        outdf = pd.DataFrame(src)\n",
    "        filename = r\"C:\\Users\\zhuj\\Documents\\PythonScripts\\tlgdb_2019_a_39_oh_\" + layername + \"_\" + str(i) + \".csv\"\n",
    "        outdf.to_csv(filename, index=False)"
   ]
  }
 ],
 "metadata": {
  "kernelspec": {
   "display_name": "Python 3",
   "language": "python",
   "name": "python3"
  },
  "language_info": {
   "codemirror_mode": {
    "name": "ipython",
    "version": 3
   },
   "file_extension": ".py",
   "mimetype": "text/x-python",
   "name": "python",
   "nbconvert_exporter": "python",
   "pygments_lexer": "ipython3",
   "version": "3.7.4"
  }
 },
 "nbformat": 4,
 "nbformat_minor": 4
}
